{
  "nbformat": 4,
  "nbformat_minor": 0,
  "metadata": {
    "colab": {
      "name": "life_table_Kaplan_Meier_plot.ipynb",
      "provenance": [],
      "collapsed_sections": [],
      "authorship_tag": "ABX9TyOdeCwBCSL5/9hlsrFrftvL",
      "include_colab_link": true
    },
    "kernelspec": {
      "name": "python3",
      "display_name": "Python 3"
    }
  },
  "cells": [
    {
      "cell_type": "markdown",
      "metadata": {
        "id": "view-in-github",
        "colab_type": "text"
      },
      "source": [
        "<a href=\"https://colab.research.google.com/github/AilingLiu/Survival_analysis/blob/master/life_table_Kaplan_Meier_plot.ipynb\" target=\"_parent\"><img src=\"https://colab.research.google.com/assets/colab-badge.svg\" alt=\"Open In Colab\"/></a>"
      ]
    },
    {
      "cell_type": "code",
      "metadata": {
        "id": "tLQDT2rdySoJ",
        "colab_type": "code",
        "colab": {}
      },
      "source": [
        "import pandas as pd\n",
        "import matplotlib.pyplot as plt\n",
        "import seaborn as sns\n",
        "import numpy as np"
      ],
      "execution_count": 0,
      "outputs": []
    },
    {
      "cell_type": "markdown",
      "metadata": {
        "id": "TVY2ErC-y7Bj",
        "colab_type": "text"
      },
      "source": [
        "Life tables are used to measure the probability of death at a given age and the life expectancy at varying ages. Actuarial science and of course life insurance companies need to know this in detail, so as in public health. There are two different kinds of life table:\n",
        "\n",
        "* Cohort or generational life tables\n",
        "* Current or period life tables\n",
        "\n",
        "We will calculate the probability of survival at time t giving below table of patient status:"
      ]
    },
    {
      "cell_type": "code",
      "metadata": {
        "id": "PvCZVkctyZWH",
        "colab_type": "code",
        "outputId": "c5f0d945-7927-4eb0-ee01-44db4ccac525",
        "colab": {
          "base_uri": "https://localhost:8080/",
          "height": 288
        }
      },
      "source": [
        "lifetab=pd.DataFrame({'Time(t)inYears': [0, 1, 4, 5, 6, 9, 9, 22],\n",
        "                      'Censored': ([False]*4+[True, False]*2),\n",
        "                      'NumAlive(T)': [8, 8, 6, 5, 4, 3, 2, 1],\n",
        "                     'NumDied(T)': [0, 2, 1, 1, 0, 1, 0, 1]})\n",
        "display(lifetab)"
      ],
      "execution_count": 14,
      "outputs": [
        {
          "output_type": "display_data",
          "data": {
            "text/html": [
              "<div>\n",
              "<style scoped>\n",
              "    .dataframe tbody tr th:only-of-type {\n",
              "        vertical-align: middle;\n",
              "    }\n",
              "\n",
              "    .dataframe tbody tr th {\n",
              "        vertical-align: top;\n",
              "    }\n",
              "\n",
              "    .dataframe thead th {\n",
              "        text-align: right;\n",
              "    }\n",
              "</style>\n",
              "<table border=\"1\" class=\"dataframe\">\n",
              "  <thead>\n",
              "    <tr style=\"text-align: right;\">\n",
              "      <th></th>\n",
              "      <th>Time(t)inYears</th>\n",
              "      <th>Censored</th>\n",
              "      <th>NumAlive(T)</th>\n",
              "      <th>NumDied(T)</th>\n",
              "    </tr>\n",
              "  </thead>\n",
              "  <tbody>\n",
              "    <tr>\n",
              "      <th>0</th>\n",
              "      <td>0</td>\n",
              "      <td>False</td>\n",
              "      <td>8</td>\n",
              "      <td>0</td>\n",
              "    </tr>\n",
              "    <tr>\n",
              "      <th>1</th>\n",
              "      <td>1</td>\n",
              "      <td>False</td>\n",
              "      <td>8</td>\n",
              "      <td>2</td>\n",
              "    </tr>\n",
              "    <tr>\n",
              "      <th>2</th>\n",
              "      <td>4</td>\n",
              "      <td>False</td>\n",
              "      <td>6</td>\n",
              "      <td>1</td>\n",
              "    </tr>\n",
              "    <tr>\n",
              "      <th>3</th>\n",
              "      <td>5</td>\n",
              "      <td>False</td>\n",
              "      <td>5</td>\n",
              "      <td>1</td>\n",
              "    </tr>\n",
              "    <tr>\n",
              "      <th>4</th>\n",
              "      <td>6</td>\n",
              "      <td>True</td>\n",
              "      <td>4</td>\n",
              "      <td>0</td>\n",
              "    </tr>\n",
              "    <tr>\n",
              "      <th>5</th>\n",
              "      <td>9</td>\n",
              "      <td>False</td>\n",
              "      <td>3</td>\n",
              "      <td>1</td>\n",
              "    </tr>\n",
              "    <tr>\n",
              "      <th>6</th>\n",
              "      <td>9</td>\n",
              "      <td>True</td>\n",
              "      <td>2</td>\n",
              "      <td>0</td>\n",
              "    </tr>\n",
              "    <tr>\n",
              "      <th>7</th>\n",
              "      <td>22</td>\n",
              "      <td>False</td>\n",
              "      <td>1</td>\n",
              "      <td>1</td>\n",
              "    </tr>\n",
              "  </tbody>\n",
              "</table>\n",
              "</div>"
            ],
            "text/plain": [
              "   Time(t)inYears  Censored  NumAlive(T)  NumDied(T)\n",
              "0               0     False            8           0\n",
              "1               1     False            8           2\n",
              "2               4     False            6           1\n",
              "3               5     False            5           1\n",
              "4               6      True            4           0\n",
              "5               9     False            3           1\n",
              "6               9      True            2           0\n",
              "7              22     False            1           1"
            ]
          },
          "metadata": {
            "tags": []
          }
        }
      ]
    },
    {
      "cell_type": "code",
      "metadata": {
        "id": "gCoCh9qp0NOA",
        "colab_type": "code",
        "outputId": "0b83db41-b8af-428c-c8e0-f1be215631ce",
        "colab": {
          "base_uri": "https://localhost:8080/",
          "height": 288
        }
      },
      "source": [
        "#the proportion of patients surviving past time t\n",
        "lifetab['PropSurvive(T)'] = (lifetab['NumAlive(T)'] - lifetab['NumDied(T)'])/lifetab['NumAlive(T)']\n",
        "\n",
        "#the probability of survival past time t\n",
        "import functools\n",
        "\n",
        "def mul(x, y):\n",
        "  return x*y\n",
        "\n",
        "def ret_mul(x):\n",
        "  return functools.reduce(mul, x, 1)\n",
        "\n",
        "lifetab['ProbOfSurvivalPastT'] = lifetab['PropSurvive(T)'].expanding().apply(ret_mul, raw=True)\n",
        "display(lifetab.round(2))"
      ],
      "execution_count": 15,
      "outputs": [
        {
          "output_type": "display_data",
          "data": {
            "text/html": [
              "<div>\n",
              "<style scoped>\n",
              "    .dataframe tbody tr th:only-of-type {\n",
              "        vertical-align: middle;\n",
              "    }\n",
              "\n",
              "    .dataframe tbody tr th {\n",
              "        vertical-align: top;\n",
              "    }\n",
              "\n",
              "    .dataframe thead th {\n",
              "        text-align: right;\n",
              "    }\n",
              "</style>\n",
              "<table border=\"1\" class=\"dataframe\">\n",
              "  <thead>\n",
              "    <tr style=\"text-align: right;\">\n",
              "      <th></th>\n",
              "      <th>Time(t)inYears</th>\n",
              "      <th>Censored</th>\n",
              "      <th>NumAlive(T)</th>\n",
              "      <th>NumDied(T)</th>\n",
              "      <th>PropSurvive(T)</th>\n",
              "      <th>ProbOfSurvivalPastT</th>\n",
              "    </tr>\n",
              "  </thead>\n",
              "  <tbody>\n",
              "    <tr>\n",
              "      <th>0</th>\n",
              "      <td>0</td>\n",
              "      <td>False</td>\n",
              "      <td>8</td>\n",
              "      <td>0</td>\n",
              "      <td>1.00</td>\n",
              "      <td>1.00</td>\n",
              "    </tr>\n",
              "    <tr>\n",
              "      <th>1</th>\n",
              "      <td>1</td>\n",
              "      <td>False</td>\n",
              "      <td>8</td>\n",
              "      <td>2</td>\n",
              "      <td>0.75</td>\n",
              "      <td>0.75</td>\n",
              "    </tr>\n",
              "    <tr>\n",
              "      <th>2</th>\n",
              "      <td>4</td>\n",
              "      <td>False</td>\n",
              "      <td>6</td>\n",
              "      <td>1</td>\n",
              "      <td>0.83</td>\n",
              "      <td>0.62</td>\n",
              "    </tr>\n",
              "    <tr>\n",
              "      <th>3</th>\n",
              "      <td>5</td>\n",
              "      <td>False</td>\n",
              "      <td>5</td>\n",
              "      <td>1</td>\n",
              "      <td>0.80</td>\n",
              "      <td>0.50</td>\n",
              "    </tr>\n",
              "    <tr>\n",
              "      <th>4</th>\n",
              "      <td>6</td>\n",
              "      <td>True</td>\n",
              "      <td>4</td>\n",
              "      <td>0</td>\n",
              "      <td>1.00</td>\n",
              "      <td>0.50</td>\n",
              "    </tr>\n",
              "    <tr>\n",
              "      <th>5</th>\n",
              "      <td>9</td>\n",
              "      <td>False</td>\n",
              "      <td>3</td>\n",
              "      <td>1</td>\n",
              "      <td>0.67</td>\n",
              "      <td>0.33</td>\n",
              "    </tr>\n",
              "    <tr>\n",
              "      <th>6</th>\n",
              "      <td>9</td>\n",
              "      <td>True</td>\n",
              "      <td>2</td>\n",
              "      <td>0</td>\n",
              "      <td>1.00</td>\n",
              "      <td>0.33</td>\n",
              "    </tr>\n",
              "    <tr>\n",
              "      <th>7</th>\n",
              "      <td>22</td>\n",
              "      <td>False</td>\n",
              "      <td>1</td>\n",
              "      <td>1</td>\n",
              "      <td>0.00</td>\n",
              "      <td>0.00</td>\n",
              "    </tr>\n",
              "  </tbody>\n",
              "</table>\n",
              "</div>"
            ],
            "text/plain": [
              "   Time(t)inYears  Censored  ...  PropSurvive(T)  ProbOfSurvivalPastT\n",
              "0               0     False  ...            1.00                 1.00\n",
              "1               1     False  ...            0.75                 0.75\n",
              "2               4     False  ...            0.83                 0.62\n",
              "3               5     False  ...            0.80                 0.50\n",
              "4               6      True  ...            1.00                 0.50\n",
              "5               9     False  ...            0.67                 0.33\n",
              "6               9      True  ...            1.00                 0.33\n",
              "7              22     False  ...            0.00                 0.00\n",
              "\n",
              "[8 rows x 6 columns]"
            ]
          },
          "metadata": {
            "tags": []
          }
        }
      ]
    },
    {
      "cell_type": "markdown",
      "metadata": {
        "id": "-PhAAsMZ2KCR",
        "colab_type": "text"
      },
      "source": [
        "Here's the complete survival curve relating to these data. You indicate that a patient was censored from the study with a little $\\triangle$ on the curve on the day they were lost to follow-up:"
      ]
    },
    {
      "cell_type": "code",
      "metadata": {
        "id": "pYFFvPDo1df4",
        "colab_type": "code",
        "outputId": "40c0288d-544e-439e-a044-fb2723604190",
        "colab": {
          "base_uri": "https://localhost:8080/",
          "height": 388
        }
      },
      "source": [
        "import seaborn as sns\n",
        "\n",
        "x = lifetab['Time(t)inYears']\n",
        "y = lifetab['ProbOfSurvivalPastT']\n",
        "markers=np.where(lifetab['Censored'], '^', 'o').tolist()\n",
        "colors = np.where(lifetab['Censored'], 'g', 'r').tolist()\n",
        "\n",
        "plt.figure(figsize=(10, 6))\n",
        "plt.step(x, y, where='post')\n",
        "for i in range(len(x)):\n",
        "    plt.plot(x[i], y[i], color=colors[i], alpha=0.5,  marker=markers[i], markersize=12)\n",
        "plt.xlim(-1, 25)\n",
        "plt.xlabel('survival time (years)')\n",
        "plt.ylabel('Probability of survival')\n",
        "\n",
        "sns.despine(top=True, right=True, left=False, bottom=False)\n",
        "plt.show()"
      ],
      "execution_count": 59,
      "outputs": [
        {
          "output_type": "display_data",
          "data": {
            "image/png": "[encoded data removed]",
            "text/plain": [
              "<Figure size 720x432 with 1 Axes>"
            ]
          },
          "metadata": {
            "tags": []
          }
        }
      ]
    },
    {
      "cell_type": "code",
      "metadata": {
        "id": "C1kCajOX8RP8",
        "colab_type": "code",
        "colab": {}
      },
      "source": [
        ""
      ],
      "execution_count": 0,
      "outputs": []
    }
  ]
}