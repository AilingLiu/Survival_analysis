{
  "nbformat": 4,
  "nbformat_minor": 0,
  "metadata": {
    "colab": {
      "name": "check_assumptions_of_cox_regression.ipynb",
      "provenance": [],
      "collapsed_sections": [],
      "authorship_tag": "ABX9TyNS+2y+I6toQzR7hiUi1dzI",
      "include_colab_link": true
    },
    "kernelspec": {
      "name": "python3",
      "display_name": "Python 3"
    }
  },
  "cells": [
    {
      "cell_type": "markdown",
      "metadata": {
        "id": "view-in-github",
        "colab_type": "text"
      },
      "source": [
        "<a href=\"https://colab.research.google.com/github/AilingLiu/Survival_analysis/blob/master/check_assumptions_of_cox_regression.ipynb\" target=\"_parent\"><img src=\"https://colab.research.google.com/assets/colab-badge.svg\" alt=\"Open In Colab\"/></a>"
      ]
    },
    {
      "cell_type": "code",
      "metadata": {
        "id": "f9i_knVQxALC",
        "colab_type": "code",
        "colab": {}
      },
      "source": [
        "import pandas as pd\n",
        "import numpy as np\n",
        "import matplotlib.pyplot as plt\n",
        "import matplotlib as mpl\n",
        "mpl.rc('xtick', labelsize=14)\n",
        "mpl.rc('ytick', labelsize=14)\n",
        "mpl.rc('axes', linewidth=1.5)\n",
        "%matplotlib inline"
      ],
      "execution_count": 0,
      "outputs": []
    },
    {
      "cell_type": "code",
      "metadata": {
        "id": "LWtADFTPxlon",
        "colab_type": "code",
        "colab": {}
      },
      "source": [
        "!pip install lifelines"
      ],
      "execution_count": 0,
      "outputs": []
    },
    {
      "cell_type": "code",
      "metadata": {
        "id": "j9nXGhnlxn3j",
        "colab_type": "code",
        "outputId": "880c6b9f-e9ff-46d7-de78-3434958466a0",
        "colab": {
          "base_uri": "https://localhost:8080/",
          "height": 248
        }
      },
      "source": [
        "data_link = 'https://raw.githubusercontent.com/AilingLiu/Survival_analysis/master/Data/simulated%20HF%20mort%20data%20for%20GMPH%20(1K)%20final.csv'\n",
        "\n",
        "\n",
        "hf = pd.read_csv(data_link, index_col='id')\n",
        "hf.head()"
      ],
      "execution_count": 0,
      "outputs": [
        {
          "output_type": "execute_result",
          "data": {
            "text/html": [
              "<div>\n",
              "<style scoped>\n",
              "    .dataframe tbody tr th:only-of-type {\n",
              "        vertical-align: middle;\n",
              "    }\n",
              "\n",
              "    .dataframe tbody tr th {\n",
              "        vertical-align: top;\n",
              "    }\n",
              "\n",
              "    .dataframe thead th {\n",
              "        text-align: right;\n",
              "    }\n",
              "</style>\n",
              "<table border=\"1\" class=\"dataframe\">\n",
              "  <thead>\n",
              "    <tr style=\"text-align: right;\">\n",
              "      <th></th>\n",
              "      <th>death</th>\n",
              "      <th>los</th>\n",
              "      <th>age</th>\n",
              "      <th>gender</th>\n",
              "      <th>cancer</th>\n",
              "      <th>cabg</th>\n",
              "      <th>crt</th>\n",
              "      <th>defib</th>\n",
              "      <th>dementia</th>\n",
              "      <th>diabetes</th>\n",
              "      <th>hypertension</th>\n",
              "      <th>ihd</th>\n",
              "      <th>mental_health</th>\n",
              "      <th>arrhythmias</th>\n",
              "      <th>copd</th>\n",
              "      <th>obesity</th>\n",
              "      <th>pvd</th>\n",
              "      <th>renal_disease</th>\n",
              "      <th>valvular_disease</th>\n",
              "      <th>metastatic_cancer</th>\n",
              "      <th>pacemaker</th>\n",
              "      <th>pneumonia</th>\n",
              "      <th>prior_appts_attended</th>\n",
              "      <th>prior_dnas</th>\n",
              "      <th>pci</th>\n",
              "      <th>stroke</th>\n",
              "      <th>senile</th>\n",
              "      <th>quintile</th>\n",
              "      <th>ethnicgroup</th>\n",
              "      <th>fu_time</th>\n",
              "    </tr>\n",
              "    <tr>\n",
              "      <th>id</th>\n",
              "      <th></th>\n",
              "      <th></th>\n",
              "      <th></th>\n",
              "      <th></th>\n",
              "      <th></th>\n",
              "      <th></th>\n",
              "      <th></th>\n",
              "      <th></th>\n",
              "      <th></th>\n",
              "      <th></th>\n",
              "      <th></th>\n",
              "      <th></th>\n",
              "      <th></th>\n",
              "      <th></th>\n",
              "      <th></th>\n",
              "      <th></th>\n",
              "      <th></th>\n",
              "      <th></th>\n",
              "      <th></th>\n",
              "      <th></th>\n",
              "      <th></th>\n",
              "      <th></th>\n",
              "      <th></th>\n",
              "      <th></th>\n",
              "      <th></th>\n",
              "      <th></th>\n",
              "      <th></th>\n",
              "      <th></th>\n",
              "      <th></th>\n",
              "      <th></th>\n",
              "    </tr>\n",
              "  </thead>\n",
              "  <tbody>\n",
              "    <tr>\n",
              "      <th>1</th>\n",
              "      <td>0</td>\n",
              "      <td>2</td>\n",
              "      <td>90</td>\n",
              "      <td>2</td>\n",
              "      <td>0</td>\n",
              "      <td>0</td>\n",
              "      <td>0</td>\n",
              "      <td>0</td>\n",
              "      <td>0</td>\n",
              "      <td>0</td>\n",
              "      <td>0</td>\n",
              "      <td>0</td>\n",
              "      <td>0</td>\n",
              "      <td>1</td>\n",
              "      <td>0</td>\n",
              "      <td>0</td>\n",
              "      <td>0</td>\n",
              "      <td>0</td>\n",
              "      <td>1</td>\n",
              "      <td>0</td>\n",
              "      <td>0</td>\n",
              "      <td>0</td>\n",
              "      <td>4</td>\n",
              "      <td>0</td>\n",
              "      <td>0</td>\n",
              "      <td>0</td>\n",
              "      <td>0</td>\n",
              "      <td>2.0</td>\n",
              "      <td>NaN</td>\n",
              "      <td>416</td>\n",
              "    </tr>\n",
              "    <tr>\n",
              "      <th>2</th>\n",
              "      <td>0</td>\n",
              "      <td>10</td>\n",
              "      <td>74</td>\n",
              "      <td>1</td>\n",
              "      <td>0</td>\n",
              "      <td>0</td>\n",
              "      <td>0</td>\n",
              "      <td>0</td>\n",
              "      <td>0</td>\n",
              "      <td>0</td>\n",
              "      <td>1</td>\n",
              "      <td>1</td>\n",
              "      <td>0</td>\n",
              "      <td>0</td>\n",
              "      <td>0</td>\n",
              "      <td>0</td>\n",
              "      <td>0</td>\n",
              "      <td>1</td>\n",
              "      <td>1</td>\n",
              "      <td>0</td>\n",
              "      <td>0</td>\n",
              "      <td>1</td>\n",
              "      <td>9</td>\n",
              "      <td>1</td>\n",
              "      <td>0</td>\n",
              "      <td>0</td>\n",
              "      <td>0</td>\n",
              "      <td>4.0</td>\n",
              "      <td>1.0</td>\n",
              "      <td>648</td>\n",
              "    </tr>\n",
              "    <tr>\n",
              "      <th>3</th>\n",
              "      <td>0</td>\n",
              "      <td>3</td>\n",
              "      <td>83</td>\n",
              "      <td>2</td>\n",
              "      <td>0</td>\n",
              "      <td>0</td>\n",
              "      <td>0</td>\n",
              "      <td>0</td>\n",
              "      <td>0</td>\n",
              "      <td>0</td>\n",
              "      <td>1</td>\n",
              "      <td>0</td>\n",
              "      <td>0</td>\n",
              "      <td>1</td>\n",
              "      <td>0</td>\n",
              "      <td>0</td>\n",
              "      <td>0</td>\n",
              "      <td>0</td>\n",
              "      <td>0</td>\n",
              "      <td>0</td>\n",
              "      <td>0</td>\n",
              "      <td>0</td>\n",
              "      <td>1</td>\n",
              "      <td>0</td>\n",
              "      <td>0</td>\n",
              "      <td>0</td>\n",
              "      <td>0</td>\n",
              "      <td>3.0</td>\n",
              "      <td>1.0</td>\n",
              "      <td>466</td>\n",
              "    </tr>\n",
              "    <tr>\n",
              "      <th>4</th>\n",
              "      <td>0</td>\n",
              "      <td>1</td>\n",
              "      <td>79</td>\n",
              "      <td>1</td>\n",
              "      <td>0</td>\n",
              "      <td>0</td>\n",
              "      <td>0</td>\n",
              "      <td>0</td>\n",
              "      <td>0</td>\n",
              "      <td>1</td>\n",
              "      <td>1</td>\n",
              "      <td>1</td>\n",
              "      <td>0</td>\n",
              "      <td>0</td>\n",
              "      <td>1</td>\n",
              "      <td>0</td>\n",
              "      <td>0</td>\n",
              "      <td>0</td>\n",
              "      <td>0</td>\n",
              "      <td>0</td>\n",
              "      <td>1</td>\n",
              "      <td>0</td>\n",
              "      <td>9</td>\n",
              "      <td>2</td>\n",
              "      <td>1</td>\n",
              "      <td>1</td>\n",
              "      <td>0</td>\n",
              "      <td>5.0</td>\n",
              "      <td>1.0</td>\n",
              "      <td>441</td>\n",
              "    </tr>\n",
              "    <tr>\n",
              "      <th>5</th>\n",
              "      <td>0</td>\n",
              "      <td>17</td>\n",
              "      <td>94</td>\n",
              "      <td>2</td>\n",
              "      <td>0</td>\n",
              "      <td>0</td>\n",
              "      <td>0</td>\n",
              "      <td>0</td>\n",
              "      <td>0</td>\n",
              "      <td>1</td>\n",
              "      <td>1</td>\n",
              "      <td>0</td>\n",
              "      <td>0</td>\n",
              "      <td>0</td>\n",
              "      <td>0</td>\n",
              "      <td>0</td>\n",
              "      <td>0</td>\n",
              "      <td>0</td>\n",
              "      <td>0</td>\n",
              "      <td>0</td>\n",
              "      <td>0</td>\n",
              "      <td>0</td>\n",
              "      <td>3</td>\n",
              "      <td>0</td>\n",
              "      <td>0</td>\n",
              "      <td>0</td>\n",
              "      <td>0</td>\n",
              "      <td>2.0</td>\n",
              "      <td>1.0</td>\n",
              "      <td>371</td>\n",
              "    </tr>\n",
              "  </tbody>\n",
              "</table>\n",
              "</div>"
            ],
            "text/plain": [
              "    death  los  age  gender  ...  senile  quintile  ethnicgroup  fu_time\n",
              "id                           ...                                        \n",
              "1       0    2   90       2  ...       0       2.0          NaN      416\n",
              "2       0   10   74       1  ...       0       4.0          1.0      648\n",
              "3       0    3   83       2  ...       0       3.0          1.0      466\n",
              "4       0    1   79       1  ...       0       5.0          1.0      441\n",
              "5       0   17   94       2  ...       0       2.0          1.0      371\n",
              "\n",
              "[5 rows x 30 columns]"
            ]
          },
          "metadata": {
            "tags": []
          },
          "execution_count": 3
        }
      ]
    },
    {
      "cell_type": "code",
      "metadata": {
        "id": "FsDGUbsIxsaV",
        "colab_type": "code",
        "colab": {}
      },
      "source": [
        "# one hot encoding\n",
        "var = 'age, gender, copd'.replace(' ', '').split(',') + ['fu_time', 'death']\n",
        "hf.loc[:, 'ethnicgroup'].fillna(value=8, inplace=True)\n",
        "hf.dropna(subset=['quintile'], inplace=True)\n",
        "\n",
        "df = hf.loc[hf.quintile !=0, :]\n",
        "quintile = pd.get_dummies(df['quintile'], prefix='quintile', drop_first=True)\n",
        "ethnic = pd.get_dummies(df['ethnicgroup'], prefix='ethnic', drop_first=True)\n",
        "\n",
        "ndf = pd.concat([ethnic, quintile, df.loc[:, var]], axis=1)\n"
      ],
      "execution_count": 0,
      "outputs": []
    },
    {
      "cell_type": "code",
      "metadata": {
        "id": "u90nQWXHyILf",
        "colab_type": "code",
        "outputId": "96e4367b-30b5-455e-c3d8-f8a0c3cb4dac",
        "colab": {
          "base_uri": "https://localhost:8080/",
          "height": 678
        }
      },
      "source": [
        "from lifelines import CoxPHFitter\n",
        "cox = CoxPHFitter()\n",
        "\n",
        "model = cox.fit(ndf, 'fu_time', 'death')\n",
        "model.print_summary(model=\"Model 1\")"
      ],
      "execution_count": 43,
      "outputs": [
        {
          "output_type": "display_data",
          "data": {
            "text/html": [
              "<div>\n",
              "<style scoped>\n",
              "    .dataframe tbody tr th:only-of-type {\n",
              "        vertical-align: middle;\n",
              "    }\n",
              "\n",
              "    .dataframe tbody tr th {\n",
              "        vertical-align: top;\n",
              "    }\n",
              "\n",
              "    .dataframe thead th {\n",
              "        text-align: right;\n",
              "    }\n",
              "</style>\n",
              "<table border=\"1\" class=\"dataframe\">\n",
              "  <tbody>\n",
              "    <tr>\n",
              "      <th>model</th>\n",
              "      <td>lifelines.CoxPHFitter</td>\n",
              "    </tr>\n",
              "    <tr>\n",
              "      <th>duration col</th>\n",
              "      <td>'fu_time'</td>\n",
              "    </tr>\n",
              "    <tr>\n",
              "      <th>event col</th>\n",
              "      <td>'death'</td>\n",
              "    </tr>\n",
              "    <tr>\n",
              "      <th>baseline estimation</th>\n",
              "      <td>breslow</td>\n",
              "    </tr>\n",
              "    <tr>\n",
              "      <th>number of observations</th>\n",
              "      <td>990</td>\n",
              "    </tr>\n",
              "    <tr>\n",
              "      <th>number of events observed</th>\n",
              "      <td>489</td>\n",
              "    </tr>\n",
              "    <tr>\n",
              "      <th>partial log-likelihood</th>\n",
              "      <td>-2850.36</td>\n",
              "    </tr>\n",
              "    <tr>\n",
              "      <th>time fit was run</th>\n",
              "      <td>2020-03-10 11:49:44 UTC</td>\n",
              "    </tr>\n",
              "    <tr>\n",
              "      <th>model</th>\n",
              "      <td>Model 1</td>\n",
              "    </tr>\n",
              "  </tbody>\n",
              "</table>\n",
              "</div><table border=\"1\" class=\"dataframe\">\n",
              "  <thead>\n",
              "    <tr style=\"text-align: right;\">\n",
              "      <th></th>\n",
              "      <th>coef</th>\n",
              "      <th>exp(coef)</th>\n",
              "      <th>se(coef)</th>\n",
              "      <th>coef lower 95%</th>\n",
              "      <th>coef upper 95%</th>\n",
              "      <th>exp(coef) lower 95%</th>\n",
              "      <th>exp(coef) upper 95%</th>\n",
              "      <th>z</th>\n",
              "      <th>p</th>\n",
              "      <th>-log2(p)</th>\n",
              "    </tr>\n",
              "  </thead>\n",
              "  <tbody>\n",
              "    <tr>\n",
              "      <th>ethnic_2.0</th>\n",
              "      <td>-0.01</td>\n",
              "      <td>0.99</td>\n",
              "      <td>0.33</td>\n",
              "      <td>-0.65</td>\n",
              "      <td>0.63</td>\n",
              "      <td>0.52</td>\n",
              "      <td>1.87</td>\n",
              "      <td>-0.04</td>\n",
              "      <td>0.97</td>\n",
              "      <td>0.04</td>\n",
              "    </tr>\n",
              "    <tr>\n",
              "      <th>ethnic_3.0</th>\n",
              "      <td>-0.81</td>\n",
              "      <td>0.45</td>\n",
              "      <td>0.42</td>\n",
              "      <td>-1.62</td>\n",
              "      <td>0.01</td>\n",
              "      <td>0.20</td>\n",
              "      <td>1.01</td>\n",
              "      <td>-1.94</td>\n",
              "      <td>0.05</td>\n",
              "      <td>4.26</td>\n",
              "    </tr>\n",
              "    <tr>\n",
              "      <th>ethnic_8.0</th>\n",
              "      <td>0.03</td>\n",
              "      <td>1.03</td>\n",
              "      <td>0.23</td>\n",
              "      <td>-0.41</td>\n",
              "      <td>0.47</td>\n",
              "      <td>0.66</td>\n",
              "      <td>1.61</td>\n",
              "      <td>0.14</td>\n",
              "      <td>0.89</td>\n",
              "      <td>0.16</td>\n",
              "    </tr>\n",
              "    <tr>\n",
              "      <th>ethnic_9.0</th>\n",
              "      <td>0.50</td>\n",
              "      <td>1.65</td>\n",
              "      <td>0.36</td>\n",
              "      <td>-0.21</td>\n",
              "      <td>1.21</td>\n",
              "      <td>0.81</td>\n",
              "      <td>3.35</td>\n",
              "      <td>1.38</td>\n",
              "      <td>0.17</td>\n",
              "      <td>2.58</td>\n",
              "    </tr>\n",
              "    <tr>\n",
              "      <th>quintile_2.0</th>\n",
              "      <td>-0.35</td>\n",
              "      <td>0.70</td>\n",
              "      <td>0.16</td>\n",
              "      <td>-0.66</td>\n",
              "      <td>-0.05</td>\n",
              "      <td>0.52</td>\n",
              "      <td>0.95</td>\n",
              "      <td>-2.29</td>\n",
              "      <td>0.02</td>\n",
              "      <td>5.49</td>\n",
              "    </tr>\n",
              "    <tr>\n",
              "      <th>quintile_3.0</th>\n",
              "      <td>0.10</td>\n",
              "      <td>1.11</td>\n",
              "      <td>0.15</td>\n",
              "      <td>-0.19</td>\n",
              "      <td>0.40</td>\n",
              "      <td>0.83</td>\n",
              "      <td>1.49</td>\n",
              "      <td>0.70</td>\n",
              "      <td>0.48</td>\n",
              "      <td>1.05</td>\n",
              "    </tr>\n",
              "    <tr>\n",
              "      <th>quintile_4.0</th>\n",
              "      <td>0.01</td>\n",
              "      <td>1.01</td>\n",
              "      <td>0.15</td>\n",
              "      <td>-0.29</td>\n",
              "      <td>0.31</td>\n",
              "      <td>0.75</td>\n",
              "      <td>1.36</td>\n",
              "      <td>0.06</td>\n",
              "      <td>0.95</td>\n",
              "      <td>0.08</td>\n",
              "    </tr>\n",
              "    <tr>\n",
              "      <th>quintile_5.0</th>\n",
              "      <td>0.10</td>\n",
              "      <td>1.11</td>\n",
              "      <td>0.15</td>\n",
              "      <td>-0.20</td>\n",
              "      <td>0.41</td>\n",
              "      <td>0.82</td>\n",
              "      <td>1.50</td>\n",
              "      <td>0.66</td>\n",
              "      <td>0.51</td>\n",
              "      <td>0.98</td>\n",
              "    </tr>\n",
              "    <tr>\n",
              "      <th>age</th>\n",
              "      <td>0.06</td>\n",
              "      <td>1.06</td>\n",
              "      <td>0.01</td>\n",
              "      <td>0.05</td>\n",
              "      <td>0.07</td>\n",
              "      <td>1.05</td>\n",
              "      <td>1.07</td>\n",
              "      <td>11.07</td>\n",
              "      <td>&lt;0.005</td>\n",
              "      <td>92.27</td>\n",
              "    </tr>\n",
              "    <tr>\n",
              "      <th>gender</th>\n",
              "      <td>-0.29</td>\n",
              "      <td>0.75</td>\n",
              "      <td>0.09</td>\n",
              "      <td>-0.47</td>\n",
              "      <td>-0.10</td>\n",
              "      <td>0.62</td>\n",
              "      <td>0.90</td>\n",
              "      <td>-3.02</td>\n",
              "      <td>&lt;0.005</td>\n",
              "      <td>8.65</td>\n",
              "    </tr>\n",
              "    <tr>\n",
              "      <th>copd</th>\n",
              "      <td>0.11</td>\n",
              "      <td>1.12</td>\n",
              "      <td>0.11</td>\n",
              "      <td>-0.10</td>\n",
              "      <td>0.32</td>\n",
              "      <td>0.91</td>\n",
              "      <td>1.38</td>\n",
              "      <td>1.05</td>\n",
              "      <td>0.29</td>\n",
              "      <td>1.77</td>\n",
              "    </tr>\n",
              "  </tbody>\n",
              "</table><div>\n",
              "<style scoped>\n",
              "    .dataframe tbody tr th:only-of-type {\n",
              "        vertical-align: middle;\n",
              "    }\n",
              "\n",
              "    .dataframe tbody tr th {\n",
              "        vertical-align: top;\n",
              "    }\n",
              "\n",
              "    .dataframe thead th {\n",
              "        text-align: right;\n",
              "    }\n",
              "</style>\n",
              "<table border=\"1\" class=\"dataframe\">\n",
              "  <tbody>\n",
              "    <tr>\n",
              "      <th>Log-likelihood ratio test</th>\n",
              "      <td>167.41 on 11 df, -log2(p)=97.65</td>\n",
              "    </tr>\n",
              "  </tbody>\n",
              "</table>\n",
              "</div>"
            ],
            "text/plain": [
              "<IPython.core.display.HTML object>"
            ]
          },
          "metadata": {
            "tags": []
          }
        }
      ]
    },
    {
      "cell_type": "markdown",
      "metadata": {
        "id": "ChKxiyAcyOx2",
        "colab_type": "text"
      },
      "source": [
        "## Check assumptions"
      ]
    },
    {
      "cell_type": "markdown",
      "metadata": {
        "id": "pUVh2Rq7FX0o",
        "colab_type": "text"
      },
      "source": [
        "Again, we can use the `check_assumptions` function from `lifeline` modules, which used `scaled Schoenfeld residuals` to test the independence of residuals and time."
      ]
    },
    {
      "cell_type": "code",
      "metadata": {
        "id": "dEKXEHIqyNQO",
        "colab_type": "code",
        "outputId": "036b4486-bf24-4a7f-986b-318e2bb17ba9",
        "colab": {
          "base_uri": "https://localhost:8080/",
          "height": 35
        }
      },
      "source": [
        "model.check_assumptions(ndf, p_value_threshold=0.05, show_plots=True)"
      ],
      "execution_count": 0,
      "outputs": [
        {
          "output_type": "stream",
          "text": [
            "Proportional hazard assumption looks okay.\n"
          ],
          "name": "stdout"
        }
      ]
    },
    {
      "cell_type": "markdown",
      "metadata": {
        "id": "_ruu-GLT8WCd",
        "colab_type": "text"
      },
      "source": [
        "Interestingly, the `check_assumptions` function in lifeline model does not output plots if the assumption is satisfied. So, let's conduct a due deligence check using its `proportional_hazard_test` function."
      ]
    },
    {
      "cell_type": "code",
      "metadata": {
        "id": "C5ahbouw8AB8",
        "colab_type": "code",
        "outputId": "ee31fc11-c32f-4e60-d409-4034d6bdc67d",
        "colab": {
          "base_uri": "https://localhost:8080/",
          "height": 528
        }
      },
      "source": [
        "from lifelines.statistics import proportional_hazard_test\n",
        "\n",
        "results = proportional_hazard_test(model, ndf, time_transform='rank')\n",
        "results.print_summary(decimals=3, model=\"model 1\")"
      ],
      "execution_count": 0,
      "outputs": [
        {
          "output_type": "display_data",
          "data": {
            "text/html": [
              "<div>\n",
              "<style scoped>\n",
              "    .dataframe tbody tr th:only-of-type {\n",
              "        vertical-align: middle;\n",
              "    }\n",
              "\n",
              "    .dataframe tbody tr th {\n",
              "        vertical-align: top;\n",
              "    }\n",
              "\n",
              "    .dataframe thead th {\n",
              "        text-align: right;\n",
              "    }\n",
              "</style>\n",
              "<table border=\"1\" class=\"dataframe\">\n",
              "  <tbody>\n",
              "    <tr>\n",
              "      <th>time_transform</th>\n",
              "      <td>rank</td>\n",
              "    </tr>\n",
              "    <tr>\n",
              "      <th>null_distribution</th>\n",
              "      <td>chi squared</td>\n",
              "    </tr>\n",
              "    <tr>\n",
              "      <th>degrees_of_freedom</th>\n",
              "      <td>1</td>\n",
              "    </tr>\n",
              "    <tr>\n",
              "      <th>test_name</th>\n",
              "      <td>proportional_hazard_test</td>\n",
              "    </tr>\n",
              "    <tr>\n",
              "      <th>model</th>\n",
              "      <td>model 1</td>\n",
              "    </tr>\n",
              "  </tbody>\n",
              "</table>\n",
              "</div><table border=\"1\" class=\"dataframe\">\n",
              "  <thead>\n",
              "    <tr style=\"text-align: right;\">\n",
              "      <th></th>\n",
              "      <th>test_statistic</th>\n",
              "      <th>p</th>\n",
              "    </tr>\n",
              "  </thead>\n",
              "  <tbody>\n",
              "    <tr>\n",
              "      <th>age</th>\n",
              "      <td>0.659</td>\n",
              "      <td>0.417</td>\n",
              "    </tr>\n",
              "    <tr>\n",
              "      <th>copd</th>\n",
              "      <td>0.054</td>\n",
              "      <td>0.816</td>\n",
              "    </tr>\n",
              "    <tr>\n",
              "      <th>ethnic_2.0</th>\n",
              "      <td>0.004</td>\n",
              "      <td>0.952</td>\n",
              "    </tr>\n",
              "    <tr>\n",
              "      <th>ethnic_3.0</th>\n",
              "      <td>0.043</td>\n",
              "      <td>0.837</td>\n",
              "    </tr>\n",
              "    <tr>\n",
              "      <th>ethnic_8.0</th>\n",
              "      <td>0.677</td>\n",
              "      <td>0.411</td>\n",
              "    </tr>\n",
              "    <tr>\n",
              "      <th>ethnic_9.0</th>\n",
              "      <td>0.338</td>\n",
              "      <td>0.561</td>\n",
              "    </tr>\n",
              "    <tr>\n",
              "      <th>gender</th>\n",
              "      <td>0.981</td>\n",
              "      <td>0.322</td>\n",
              "    </tr>\n",
              "    <tr>\n",
              "      <th>quintile_2.0</th>\n",
              "      <td>0.814</td>\n",
              "      <td>0.367</td>\n",
              "    </tr>\n",
              "    <tr>\n",
              "      <th>quintile_3.0</th>\n",
              "      <td>2.287</td>\n",
              "      <td>0.130</td>\n",
              "    </tr>\n",
              "    <tr>\n",
              "      <th>quintile_4.0</th>\n",
              "      <td>0.163</td>\n",
              "      <td>0.686</td>\n",
              "    </tr>\n",
              "    <tr>\n",
              "      <th>quintile_5.0</th>\n",
              "      <td>0.320</td>\n",
              "      <td>0.571</td>\n",
              "    </tr>\n",
              "  </tbody>\n",
              "</table>"
            ],
            "text/plain": [
              "<IPython.core.display.HTML object>"
            ]
          },
          "metadata": {
            "tags": []
          }
        }
      ]
    },
    {
      "cell_type": "markdown",
      "metadata": {
        "id": "BymcLWQ382y6",
        "colab_type": "text"
      },
      "source": [
        "The pvalue for each predictor is above .05, there is no strong evidence between the residuals and time. The model has correctly handled the relation between each predictor and time so that there's nothing left of that relation for the residuals to spot. \n",
        "\n",
        "If we have only one categorical predictor with two levels, such as gender, we can use Kaplan-Meier plot as an informal visual check on proportional assumption. If the predictor satisfies the proportional hazard assumption, then the graph of the survival function versus the survival time should yield parallel curves. This method does not work well for continuous predictors or categorical ones with many levels because the graph becomes too “cluttered”.\n",
        "\n",
        "Alternatively, R has quite good plots to check assumption. Check out the R file I created in the same repository to visulize the Schoenfeld Residuals of Gender Against Time. "
      ]
    },
    {
      "cell_type": "code",
      "metadata": {
        "id": "uLhmIh6O-ax5",
        "colab_type": "code",
        "colab": {
          "base_uri": "https://localhost:8080/",
          "height": 392
        },
        "outputId": "d57403ab-1da5-4788-d3d8-110f0fa73e47"
      },
      "source": [
        "from lifelines import KaplanMeierFitter\n",
        "fig, ax = plt.subplots(1, 1, figsize=(10, 6))\n",
        "\n",
        "kmf = KaplanMeierFitter()\n",
        "df = hf.loc[:, ['fu_time', 'death', 'gender']]\n",
        "\n",
        "for name, grouped_df in df.groupby('gender'):\n",
        "    kmf.fit(grouped_df[\"fu_time\"], grouped_df[\"death\"], label='gender:'+str(name))\n",
        "    kmf.plot(ax=ax)"
      ],
      "execution_count": 40,
      "outputs": [
        {
          "output_type": "display_data",
          "data": {
            "image/png": "[encoded data removed]",
            "text/plain": [
              "<Figure size 720x432 with 1 Axes>"
            ]
          },
          "metadata": {
            "tags": []
          }
        }
      ]
    },
    {
      "cell_type": "markdown",
      "metadata": {
        "id": "bFNeJvMHRf25",
        "colab_type": "text"
      },
      "source": [
        "Use Martingale residuls to assess proportionality assumption"
      ]
    },
    {
      "cell_type": "code",
      "metadata": {
        "id": "rjp1hyQYOJFC",
        "colab_type": "code",
        "colab": {
          "base_uri": "https://localhost:8080/",
          "height": 228
        },
        "outputId": "2be84337-5bef-4211-c7f0-e2222d262908"
      },
      "source": [
        "r = model.compute_residuals(ndf, 'martingale')\n",
        "r.head()"
      ],
      "execution_count": 44,
      "outputs": [
        {
          "output_type": "execute_result",
          "data": {
            "text/html": [
              "<div>\n",
              "<style scoped>\n",
              "    .dataframe tbody tr th:only-of-type {\n",
              "        vertical-align: middle;\n",
              "    }\n",
              "\n",
              "    .dataframe tbody tr th {\n",
              "        vertical-align: top;\n",
              "    }\n",
              "\n",
              "    .dataframe thead th {\n",
              "        text-align: right;\n",
              "    }\n",
              "</style>\n",
              "<table border=\"1\" class=\"dataframe\">\n",
              "  <thead>\n",
              "    <tr style=\"text-align: right;\">\n",
              "      <th></th>\n",
              "      <th>fu_time</th>\n",
              "      <th>death</th>\n",
              "      <th>martingale</th>\n",
              "    </tr>\n",
              "    <tr>\n",
              "      <th>id</th>\n",
              "      <th></th>\n",
              "      <th></th>\n",
              "      <th></th>\n",
              "    </tr>\n",
              "  </thead>\n",
              "  <tbody>\n",
              "    <tr>\n",
              "      <th>38</th>\n",
              "      <td>0.0</td>\n",
              "      <td>False</td>\n",
              "      <td>-0.000920</td>\n",
              "    </tr>\n",
              "    <tr>\n",
              "      <th>484</th>\n",
              "      <td>0.0</td>\n",
              "      <td>False</td>\n",
              "      <td>-0.000162</td>\n",
              "    </tr>\n",
              "    <tr>\n",
              "      <th>535</th>\n",
              "      <td>0.0</td>\n",
              "      <td>False</td>\n",
              "      <td>-0.003109</td>\n",
              "    </tr>\n",
              "    <tr>\n",
              "      <th>550</th>\n",
              "      <td>0.0</td>\n",
              "      <td>False</td>\n",
              "      <td>-0.000787</td>\n",
              "    </tr>\n",
              "    <tr>\n",
              "      <th>964</th>\n",
              "      <td>0.0</td>\n",
              "      <td>False</td>\n",
              "      <td>-0.003942</td>\n",
              "    </tr>\n",
              "  </tbody>\n",
              "</table>\n",
              "</div>"
            ],
            "text/plain": [
              "     fu_time  death  martingale\n",
              "id                             \n",
              "38       0.0  False   -0.000920\n",
              "484      0.0  False   -0.000162\n",
              "535      0.0  False   -0.003109\n",
              "550      0.0  False   -0.000787\n",
              "964      0.0  False   -0.003942"
            ]
          },
          "metadata": {
            "tags": []
          },
          "execution_count": 44
        }
      ]
    },
    {
      "cell_type": "markdown",
      "metadata": {
        "id": "U_OEd0R7SP3E",
        "colab_type": "text"
      },
      "source": [
        "Positive values mean that the patient died sooner than expected (according to the model); negative values mean that the patient lived longer than expected (or were censored)."
      ]
    },
    {
      "cell_type": "code",
      "metadata": {
        "id": "kMC2XBwFRy7o",
        "colab_type": "code",
        "colab": {
          "base_uri": "https://localhost:8080/",
          "height": 411
        },
        "outputId": "bff4c813-110b-47a9-f2f4-ff781080b66f"
      },
      "source": [
        "r.plot.scatter(\n",
        "    x='fu_time', y='martingale', c=np.where(r['death'], '#008fd5', '#fc4f30'),\n",
        "    alpha=0.75,\n",
        "    figsize=(10, 6)\n",
        ")"
      ],
      "execution_count": 47,
      "outputs": [
        {
          "output_type": "execute_result",
          "data": {
            "text/plain": [
              "<matplotlib.axes._subplots.AxesSubplot at 0x7fa0a36eec18>"
            ]
          },
          "metadata": {
            "tags": []
          },
          "execution_count": 47
        },
        {
          "output_type": "display_data",
          "data": {
            "image/png": "[encoded data removed]",
            "text/plain": [
              "<Figure size 720x432 with 1 Axes>"
            ]
          },
          "metadata": {
            "tags": []
          }
        }
      ]
    },
    {
      "cell_type": "code",
      "metadata": {
        "id": "Gv7BL_uH9Qe4",
        "colab_type": "code",
        "colab": {}
      },
      "source": [
        ""
      ],
      "execution_count": 0,
      "outputs": []
    }
  ]
}